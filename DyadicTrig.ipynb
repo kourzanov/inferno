{
 "cells": [
  {
   "cell_type": "code",
   "execution_count": 2,
   "metadata": {},
   "outputs": [
    {
     "data": {
      "text/plain": [
       "tobin (generic function with 1 method)"
      ]
     },
     "execution_count": 2,
     "metadata": {},
     "output_type": "execute_result"
    }
   ],
   "source": [
    "# convert a sequence of signs to an integer\n",
    "tobin(xs::Vector{Int})::Int=sum(2 .^(find(xs)-1))"
   ]
  },
  {
   "cell_type": "code",
   "execution_count": 2,
   "metadata": {},
   "outputs": [
    {
     "data": {
      "text/plain": [
       "tocos (generic function with 1 method)"
      ]
     },
     "execution_count": 2,
     "metadata": {},
     "output_type": "execute_result"
    }
   ],
   "source": [
    "# calculate the values of cos(n*pi/2m) for a sequence of signs representing n/m\n",
    "function tocos(xs::Vector{Int})::Real\n",
    "    acc=2\n",
    "    for x in xs[1:end-2]\n",
    "        acc=2+(1-2x)*sqrt(acc)\n",
    "    end\n",
    "    return sqrt(acc)/2\n",
    "end"
   ]
  },
  {
   "cell_type": "code",
   "execution_count": 3,
   "metadata": {},
   "outputs": [
    {
     "data": {
      "text/plain": [
       "1×2 Array{Float64,2}:\n",
       " 0.92388  0.92388"
      ]
     },
     "execution_count": 3,
     "metadata": {},
     "output_type": "execute_result"
    }
   ],
   "source": [
    "[tocos(Array{Int}([0,0,0])) cos(1//4*pi/2)]"
   ]
  },
  {
   "cell_type": "code",
   "execution_count": 4,
   "metadata": {},
   "outputs": [
    {
     "data": {
      "text/plain": [
       "S (generic function with 4 methods)"
      ]
     },
     "execution_count": 4,
     "metadata": {},
     "output_type": "execute_result"
    }
   ],
   "source": [
    "# calculate sequence of signs given x=n/m\n",
    "function S(x::Rational,sin=0,init=0,sign=0)::Vector{Int}\n",
    "    ss=Vector{Int}([sin,init]);\n",
    "    m=denominator(x)>>1\n",
    "    while numerator(x)!=m        \n",
    "        if numerator(x)<m\n",
    "            ss=[mod(sum(ss),2)==0 ? sign : 1-sign; ss]\n",
    "            x=numerator(x)//m\n",
    "        else\n",
    "            ss=[mod(sum(ss),2)==0 ? 1-sign : sign; ss]\n",
    "            x=(numerator(x)-m)//m\n",
    "        end\n",
    "        m=denominator(x)>>1\n",
    "    end\n",
    "    return ss\n",
    "end"
   ]
  },
  {
   "cell_type": "raw",
   "metadata": {},
   "source": [
    "# calculate sequence of signs given x=n/m\n",
    "function S(x::Rational,init=0)::Array{Int}\n",
    "    ss=Array{Int}((init==0 ? [] : [init,0]))\n",
    "    m=denominator(x)>>1\n",
    "    while numerator(x)!=m\n",
    "        if numerator(x)<m\n",
    "            ss=[mod(sum(ss),2)==0 ? init : 1-init;ss]\n",
    "            x=numerator(x)//m\n",
    "        else\n",
    "            ss=[mod(sum(ss),2)==0 ? 1-init : init;ss]\n",
    "            x=(numerator(x)-m)//m\n",
    "        end\n",
    "        m=denominator(x)>>1\n",
    "    end\n",
    "    return ss\n",
    "end"
   ]
  },
  {
   "cell_type": "code",
   "execution_count": 5,
   "metadata": {},
   "outputs": [
    {
     "data": {
      "text/plain": [
       "63×6 Array{Any,2}:\n",
       "  1//64  [0, 0, 0, 0, 0, 0, 0]  0.999699   0.999699    0  16\n",
       "  1//32  [0, 0, 0, 0, 0, 0]     0.998795   0.998795    0   8\n",
       "  3//64  [1, 0, 0, 0, 0, 0, 0]  0.99729    0.99729     1  17\n",
       "  1//16  [0, 0, 0, 0, 0]        0.995185   0.995185    0   4\n",
       "  5//64  [1, 1, 0, 0, 0, 0, 0]  0.99248    0.99248     3  19\n",
       "  3//32  [1, 0, 0, 0, 0, 0]     0.989177   0.989177    1   9\n",
       "  7//64  [0, 1, 0, 0, 0, 0, 0]  0.985278   0.985278    2  18\n",
       "  1//8   [0, 0, 0, 0]           0.980785   0.980785    0   2\n",
       "  9//64  [0, 1, 1, 0, 0, 0, 0]  0.975702   0.975702    6  22\n",
       "  5//32  [1, 1, 0, 0, 0, 0]     0.970031   0.970031    3  11\n",
       " 11//64  [1, 1, 1, 0, 0, 0, 0]  0.963776   0.963776    7  23\n",
       "  3//16  [1, 0, 0, 0, 0]        0.95694    0.95694     1   5\n",
       " 13//64  [1, 0, 1, 0, 0, 0, 0]  0.949528   0.949528    5  21\n",
       "   ⋮                                                       ⋮\n",
       " 13//16  [1, 0, 1, 0, 0]        0.290285   0.290285    5   1\n",
       " 53//64  [1, 1, 1, 0, 1, 0, 0]  0.266713   0.266713   23   7\n",
       " 27//32  [1, 1, 0, 1, 0, 0]     0.24298    0.24298    11   3\n",
       " 55//64  [0, 1, 1, 0, 1, 0, 0]  0.219101   0.219101   22   6\n",
       "  7//8   [0, 1, 0, 0]           0.19509    0.19509     2   0\n",
       " 57//64  [0, 1, 0, 0, 1, 0, 0]  0.170962   0.170962   18   2\n",
       " 29//32  [1, 0, 0, 1, 0, 0]     0.14673    0.14673     9   1\n",
       " 59//64  [1, 1, 0, 0, 1, 0, 0]  0.122411   0.122411   19   3\n",
       " 15//16  [0, 0, 1, 0, 0]        0.0980171  0.0980171   4   0\n",
       " 61//64  [1, 0, 0, 0, 1, 0, 0]  0.0735646  0.0735646  17   1\n",
       " 31//32  [0, 0, 0, 1, 0, 0]     0.0490677  0.0490677   8   0\n",
       " 63//64  [0, 0, 0, 0, 1, 0, 0]  0.0245412  0.0245412  16   0"
      ]
     },
     "execution_count": 5,
     "metadata": {},
     "output_type": "execute_result"
    }
   ],
   "source": [
    "k=6\n",
    "ns=[n//2^k for n in 1:2^k-1]\n",
    "[ns S.(ns) tocos.(S.(ns,0,0,0)) cos.(ns*pi/2) tobin.(S.(ns,0,0,0)) tobin.(S.(ns,0,0,1))]\n",
    "#[ns S.(ns) tocos.(S.(ns,1,0,0)) sin.(ns*pi/2) tobin.(S.(ns,1,0,0)) tobin.(S.(ns,1,0,1))]\n",
    "#[ns S.(ns) tocos.(S.(ns,0,0,1)) sin.(ns*pi/2) tobin.(S.(ns,0,0,1)) tobin.(S.(ns,0,0,0))]\n",
    "#[ns S.(ns) tocos.(S.(ns)) tobin.(S.(ns))]"
   ]
  },
  {
   "cell_type": "code",
   "execution_count": 6,
   "metadata": {},
   "outputs": [
    {
     "name": "stdout",
     "output_type": "stream",
     "text": [
      "[0]\n",
      "[0, 0, 1]\n",
      "[0, 0, 1, 0, 3, 1, 2]\n",
      "[0, 0, 1, 0, 3, 1, 2, 0, 6, 3, 7, 1, 5, 2, 4]\n",
      "[0, 0, 1, 0, 3, 1, 2, 0, 6, 3, 7, 1, 5, 2, 4, 0, 12, 6, 13, 3, 15, 7, 14, 1, 10, 5, 11, 2, 9, 4, 8]\n",
      "[0, 0, 1, 0, 3, 1, 2, 0, 6, 3, 7, 1, 5, 2, 4, 0, 12, 6, 13, 3, 15, 7, 14, 1, 10, 5, 11, 2, 9, 4, 8, 0, 24, 12, 25, 6, 27, 13, 26, 3, 30, 15, 31, 7, 29, 14, 28, 1, 20, 10, 21, 5, 23, 11, 22, 2, 18, 9, 19, 4, 17, 8, 16]\n",
      "[0, 0, 1, 0, 3, 1, 2, 0, 6, 3, 7, 1, 5, 2, 4, 0, 12, 6, 13, 3, 15, 7, 14, 1, 10, 5, 11, 2, 9, 4, 8, 0, 24, 12, 25, 6, 27, 13, 26, 3, 30, 15, 31, 7, 29, 14, 28, 1, 20, 10, 21, 5, 23, 11, 22, 2, 18, 9, 19, 4, 17, 8, 16, 0, 48, 24, 49, 12, 51, 25, 50, 6, 54, 27, 55, 13, 53, 26, 52, 3, 60, 30, 61, 15, 63, 31, 62, 7, 58, 29, 59, 14, 57, 28, 56, 1, 40, 20, 41, 10, 43, 21, 42, 5, 46, 23, 47, 11, 45, 22, 44, 2, 36, 18, 37, 9, 39, 19, 38, 4, 34, 17, 35, 8, 33, 16, 32]\n"
     ]
    }
   ],
   "source": [
    "for i=1:7\n",
    "    println(tobin.(S.([n//2^i for n=1:2^i-1])))\n",
    "end"
   ]
  },
  {
   "cell_type": "code",
   "execution_count": 7,
   "metadata": {},
   "outputs": [
    {
     "data": {
      "text/plain": [
       "H (generic function with 1 method)"
      ]
     },
     "execution_count": 7,
     "metadata": {},
     "output_type": "execute_result"
    }
   ],
   "source": [
    "H(k)=if k==1; return [0] \n",
    " else\n",
    "    hk=H(k-1)\n",
    "    r=zeros(Int,2^k-1)\n",
    "    r[2:2:end]=hk\n",
    "    r[1:2:end>>1]=hk[1:2:end]\n",
    "    r[1+(end+1)>>1:2:end]=reverse(hk[1:2:end])+2^(k-2)\n",
    "    return r\n",
    " end"
   ]
  },
  {
   "cell_type": "code",
   "execution_count": 4,
   "metadata": {},
   "outputs": [
    {
     "name": "stdout",
     "output_type": "stream",
     "text": [
      "[0]\n",
      "[0, 0, 1]\n",
      "[0, 0, 1, 0, 3, 1, 2]\n",
      "[0, 0, 1, 0, 3, 1, 2, 0, 6, 3, 7, 1, 5, 2, 4]\n",
      "[0, 0, 1, 0, 3, 1, 2, 0, 6, 3, 7, 1, 5, 2, 4, 0, 12, 6, 13, 3, 15, 7, 14, 1, 10, 5, 11, 2, 9, 4, 8]\n",
      "[0, 0, 1, 0, 3, 1, 2, 0, 6, 3, 7, 1, 5, 2, 4, 0, 12, 6, 13, 3, 15, 7, 14, 1, 10, 5, 11, 2, 9, 4, 8, 0, 24, 12, 25, 6, 27, 13, 26, 3, 30, 15, 31, 7, 29, 14, 28, 1, 20, 10, 21, 5, 23, 11, 22, 2, 18, 9, 19, 4, 17, 8, 16]\n",
      "[0, 0, 1, 0, 3, 1, 2, 0, 6, 3, 7, 1, 5, 2, 4, 0, 12, 6, 13, 3, 15, 7, 14, 1, 10, 5, 11, 2, 9, 4, 8, 0, 24, 12, 25, 6, 27, 13, 26, 3, 30, 15, 31, 7, 29, 14, 28, 1, 20, 10, 21, 5, 23, 11, 22, 2, 18, 9, 19, 4, 17, 8, 16, 0, 48, 24, 49, 12, 51, 25, 50, 6, 54, 27, 55, 13, 53, 26, 52, 3, 60, 30, 61, 15, 63, 31, 62, 7, 58, 29, 59, 14, 57, 28, 56, 1, 40, 20, 41, 10, 43, 21, 42, 5, 46, 23, 47, 11, 45, 22, 44, 2, 36, 18, 37, 9, 39, 19, 38, 4, 34, 17, 35, 8, 33, 16, 32]\n"
     ]
    }
   ],
   "source": [
    "for i=1:7\n",
    "    println(H(i))\n",
    "end"
   ]
  },
  {
   "cell_type": "code",
   "execution_count": null,
   "metadata": {},
   "outputs": [],
   "source": [
    "H(25)==tobin.(S.([n//2^25 for n=1:2^25-1]))"
   ]
  },
  {
   "cell_type": "code",
   "execution_count": null,
   "metadata": {
    "collapsed": true
   },
   "outputs": [],
   "source": [
    "1+2"
   ]
  }
 ],
 "metadata": {
  "celltoolbar": "Slideshow",
  "kernelspec": {
   "display_name": "Julia 0.7.0-DEV",
   "language": "julia",
   "name": "julia-0.7"
  },
  "language_info": {
   "file_extension": ".jl",
   "mimetype": "application/julia",
   "name": "julia",
   "version": "0.7.0"
  }
 },
 "nbformat": 4,
 "nbformat_minor": 1
}
